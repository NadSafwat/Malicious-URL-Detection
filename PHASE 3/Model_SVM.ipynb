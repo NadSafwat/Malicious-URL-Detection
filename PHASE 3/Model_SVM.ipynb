{
 "cells": [
  {
   "cell_type": "code",
   "execution_count": 1,
   "metadata": {},
   "outputs": [],
   "source": [
    "import numpy as np\n",
    "import pandas as pd\n",
    "from sklearn.svm import LinearSVC\n",
    "from sklearn.model_selection import KFold\n",
    "from sklearn.metrics import f1_score, accuracy_score, precision_score, recall_score, classification_report"
   ]
  },
  {
   "cell_type": "code",
   "execution_count": 2,
   "metadata": {},
   "outputs": [],
   "source": [
    "df_train = pd.read_csv(r'C:\\Users\\nadin\\OneDrive\\Documents\\Machine Learning Project\\train_dump.csv')"
   ]
  },
  {
   "cell_type": "code",
   "execution_count": 3,
   "metadata": {},
   "outputs": [],
   "source": [
    "columns_to_convert = df_train.columns[8:-1]\n",
    "df_train[columns_to_convert] = df_train[columns_to_convert].astype('int8')"
   ]
  },
  {
   "cell_type": "code",
   "execution_count": 4,
   "metadata": {},
   "outputs": [],
   "source": [
    "df_test = pd.read_csv(r'C:\\Users\\nadin\\OneDrive\\Documents\\Machine Learning Project\\test_dump.csv')"
   ]
  },
  {
   "cell_type": "code",
   "execution_count": 5,
   "metadata": {},
   "outputs": [],
   "source": [
    "df_test[columns_to_convert] = df_test[columns_to_convert].astype('int8')"
   ]
  },
  {
   "cell_type": "code",
   "execution_count": 6,
   "metadata": {},
   "outputs": [],
   "source": [
    "# remove the index column thats read from the csv\n",
    "df_train = df_train.iloc[:, 1:]\n",
    "df_test = df_test.iloc[:, 1:]"
   ]
  },
  {
   "cell_type": "code",
   "execution_count": 7,
   "metadata": {},
   "outputs": [],
   "source": [
    "x_train = df_train[df_train.columns[:-1]].to_numpy()\n",
    "y_train = df_train['label'].to_numpy()\n",
    "\n",
    "x_test = df_test[df_test.columns[:-1]].to_numpy()\n",
    "y_test = df_test['label'].to_numpy()"
   ]
  },
  {
   "cell_type": "code",
   "execution_count": 8,
   "metadata": {},
   "outputs": [],
   "source": [
    "kf = KFold(n_splits=5)\n",
    "\n",
    "f1s = []\n",
    "accuracies = []\n",
    "precisions = []\n",
    "recalls = []\n",
    "roc_aucs = []"
   ]
  },
  {
   "cell_type": "code",
   "execution_count": 11,
   "metadata": {},
   "outputs": [
    {
     "name": "stdout",
     "output_type": "stream",
     "text": [
      "##### FOLD: 1 #####\n",
      "Precision = 0.9984633851497454\n",
      "Recall = 1.0\n",
      "Accuracy = 0.9984958333333334\n",
      "F1 score = 0.9992311018246954\n",
      "\n",
      "##### FOLD: 2 #####\n",
      "Precision = 0.9984883389186726\n",
      "Recall = 1.0\n",
      "Accuracy = 0.9985208333333333\n",
      "F1 score = 0.9992435977474128\n",
      "\n",
      "##### FOLD: 3 #####\n",
      "Precision = 0.9985012858286356\n",
      "Recall = 1.0\n",
      "Accuracy = 0.9985333333333334\n",
      "F1 score = 0.9992500809571694\n",
      "\n",
      "##### FOLD: 4 #####\n",
      "Precision = 0.9985309647090884\n",
      "Recall = 1.0\n",
      "Accuracy = 0.9985625\n",
      "F1 score = 0.9992649424417973\n",
      "\n",
      "##### FOLD: 5 #####\n",
      "Precision = 0.9985065227936109\n",
      "Recall = 1.0\n",
      "Accuracy = 0.9985375\n",
      "F1 score = 0.9992527033615575\n",
      "\n",
      "\n",
      "Mean Scores: \n",
      "Mean F1 score = 0.9992484852665264\n",
      "Mean Accuracy = 0.99853\n",
      "Mean Precision = 0.9984980994799505\n",
      "Mean Recall = 1.0\n"
     ]
    }
   ],
   "source": [
    "model = LinearSVC(dual=False)\n",
    "\n",
    "fold = 1\n",
    "for train, valid in kf.split(x_train, y_train):\n",
    "    print(f\"##### FOLD: {fold} #####\")\n",
    "\n",
    "    # Fit the model\n",
    "    model.fit(x_train[train], y_train[train])\n",
    "\n",
    "    # Predict on the test set\n",
    "    predictions = model.predict(x_train[valid])\n",
    "\n",
    "    # Evaluate the model\n",
    "    precision = precision_score(y_true=y_train[valid], y_pred=predictions, zero_division=0)\n",
    "    recall = recall_score(y_true=y_train[valid], y_pred=predictions, zero_division=0)\n",
    "    accuracy = accuracy_score(y_true=y_train[valid], y_pred=predictions)\n",
    "    f1 = f1_score(y_true=y_train[valid], y_pred=predictions, zero_division=0)\n",
    "\n",
    "    # Store the result\n",
    "    f1s.append(f1)\n",
    "    accuracies.append(accuracy)\n",
    "    precisions.append(precision)\n",
    "    recalls.append(recall)\n",
    "\n",
    "    # Print the scores for each fold\n",
    "    print(f\"Precision = {precision}\")\n",
    "    print(f\"Recall = {recall}\")\n",
    "    print(f\"Accuracy = {accuracy}\")\n",
    "    print(f\"F1 score = {f1}\\n\")\n",
    "\n",
    "    fold += 1\n",
    "\n",
    "print(\"\\nMean Scores: \")\n",
    "print(f\"Mean F1 score = {np.mean(f1s)}\")\n",
    "print(f\"Mean Accuracy = {np.mean(accuracies)}\")\n",
    "print(f\"Mean Precision = {np.mean(precisions)}\")\n",
    "print(f\"Mean Recall = {np.mean(recalls)}\")"
   ]
  },
  {
   "cell_type": "code",
   "execution_count": 12,
   "metadata": {},
   "outputs": [],
   "source": [
    "y_pred = model.predict(x_test)"
   ]
  },
  {
   "cell_type": "code",
   "execution_count": 14,
   "metadata": {},
   "outputs": [
    {
     "name": "stdout",
     "output_type": "stream",
     "text": [
      "\n",
      "Classification Report:\n",
      "               precision    recall  f1-score   support\n",
      "\n",
      "           0       1.00      0.94      0.97      8062\n",
      "           1       1.00      1.00      1.00    353872\n",
      "\n",
      "    accuracy                           1.00    361934\n",
      "   macro avg       1.00      0.97      0.98    361934\n",
      "weighted avg       1.00      1.00      1.00    361934\n",
      "\n"
     ]
    }
   ],
   "source": [
    "classification = classification_report(y_test, y_pred, zero_division=1)\n",
    "\n",
    "print(\"\\nClassification Report:\\n\", classification)"
   ]
  }
 ],
 "metadata": {
  "kernelspec": {
   "display_name": "Python 3",
   "language": "python",
   "name": "python3"
  },
  "language_info": {
   "codemirror_mode": {
    "name": "ipython",
    "version": 3
   },
   "file_extension": ".py",
   "mimetype": "text/x-python",
   "name": "python",
   "nbconvert_exporter": "python",
   "pygments_lexer": "ipython3",
   "version": "3.12.0"
  }
 },
 "nbformat": 4,
 "nbformat_minor": 2
}
