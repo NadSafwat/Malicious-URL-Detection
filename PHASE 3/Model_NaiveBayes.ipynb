{
 "cells": [
  {
   "cell_type": "code",
   "execution_count": 1,
   "metadata": {},
   "outputs": [],
   "source": [
    "import numpy as np\n",
    "import pandas as pd\n",
    "from sklearn.naive_bayes import GaussianNB\n",
    "from sklearn.model_selection import KFold\n",
    "from sklearn.metrics import f1_score, accuracy_score, precision_score, recall_score, classification_report"
   ]
  },
  {
   "cell_type": "code",
   "execution_count": 2,
   "metadata": {},
   "outputs": [],
   "source": [
    "df_train = pd.read_csv(r'C:\\Users\\nadin\\OneDrive\\Documents\\Machine Learning Project\\train_dump.csv')"
   ]
  },
  {
   "cell_type": "code",
   "execution_count": 3,
   "metadata": {},
   "outputs": [],
   "source": [
    "columns_to_convert = df_train.columns[8:-1]\n",
    "df_train[columns_to_convert] = df_train[columns_to_convert].astype('int8')"
   ]
  },
  {
   "cell_type": "code",
   "execution_count": 4,
   "metadata": {},
   "outputs": [],
   "source": [
    "df_test = pd.read_csv(r'C:\\Users\\nadin\\OneDrive\\Documents\\Machine Learning Project\\test_dump.csv')"
   ]
  },
  {
   "cell_type": "code",
   "execution_count": 5,
   "metadata": {},
   "outputs": [],
   "source": [
    "df_test[columns_to_convert] = df_test[columns_to_convert].astype('int8')"
   ]
  },
  {
   "cell_type": "code",
   "execution_count": 6,
   "metadata": {},
   "outputs": [],
   "source": [
    "# remove the index column thats read from the csv\n",
    "df_train = df_train.iloc[:, 1:]\n",
    "df_test = df_test.iloc[:, 1:]"
   ]
  },
  {
   "cell_type": "code",
   "execution_count": 7,
   "metadata": {},
   "outputs": [],
   "source": [
    "x_train = df_train[df_train.columns[:-1]].to_numpy()\n",
    "y_train = df_train['label'].to_numpy()\n",
    "\n",
    "x_test = df_test[df_test.columns[:-1]].to_numpy()\n",
    "y_test = df_test['label'].to_numpy()"
   ]
  },
  {
   "cell_type": "code",
   "execution_count": 8,
   "metadata": {},
   "outputs": [],
   "source": [
    "kf = KFold(n_splits=5)\n",
    "\n",
    "f1s = []\n",
    "accuracies = []\n",
    "precisions = []\n",
    "recalls = []\n",
    "roc_aucs = []"
   ]
  },
  {
   "cell_type": "code",
   "execution_count": 9,
   "metadata": {},
   "outputs": [
    {
     "name": "stdout",
     "output_type": "stream",
     "text": [
      "##### FOLD: 1 #####\n",
      "Precision = 0.997566199376947\n",
      "Recall = 0.04368400185871229\n",
      "Accuracy = 0.0652125\n",
      "F1 score = 0.08370261759576544\n",
      "\n",
      "##### FOLD: 2 #####\n",
      "Precision = 0.9976171564733916\n",
      "Recall = 0.04285117235144102\n",
      "Accuracy = 0.06474166666666667\n",
      "F1 score = 0.08217273611985705\n",
      "\n",
      "##### FOLD: 3 #####\n",
      "Precision = 0.9978310164645569\n",
      "Recall = 0.0431569701001211\n",
      "Accuracy = 0.06492916666666666\n",
      "F1 score = 0.08273556255849979\n",
      "\n",
      "##### FOLD: 4 #####\n",
      "Precision = 0.9982\n",
      "Recall = 0.042566619616806606\n",
      "Accuracy = 0.06442083333333333\n",
      "F1 score = 0.08165134988118755\n",
      "\n",
      "##### FOLD: 5 #####\n",
      "Precision = 0.9977615571776156\n",
      "Recall = 0.04368669328549331\n",
      "Accuracy = 0.064825\n",
      "F1 score = 0.08370824589909613\n",
      "\n",
      "\n",
      "Mean Scores: \n",
      "Mean F1 score = 0.0827941024108812\n",
      "Mean Accuracy = 0.06482583333333333\n",
      "Mean Precision = 0.9977951858985022\n",
      "Mean Recall = 0.04318909144251486\n"
     ]
    }
   ],
   "source": [
    "model = GaussianNB()\n",
    "\n",
    "fold = 1\n",
    "for train, valid in kf.split(x_train, y_train):\n",
    "    print(f\"##### FOLD: {fold} #####\")\n",
    "\n",
    "    # Fit the model\n",
    "    model.fit(x_train[train], y_train[train])\n",
    "\n",
    "    # Predict on the test set\n",
    "    predictions = model.predict(x_train[valid])\n",
    "\n",
    "    # Evaluate the model\n",
    "    precision = precision_score(y_true=y_train[valid], y_pred=predictions, zero_division=0)\n",
    "    recall = recall_score(y_true=y_train[valid], y_pred=predictions, zero_division=0)\n",
    "    accuracy = accuracy_score(y_true=y_train[valid], y_pred=predictions)\n",
    "    f1 = f1_score(y_true=y_train[valid], y_pred=predictions, zero_division=0)\n",
    "\n",
    "    # Store the result\n",
    "    f1s.append(f1)\n",
    "    accuracies.append(accuracy)\n",
    "    precisions.append(precision)\n",
    "    recalls.append(recall)\n",
    "\n",
    "    # Print the scores for each fold\n",
    "    print(f\"Precision = {precision}\")\n",
    "    print(f\"Recall = {recall}\")\n",
    "    print(f\"Accuracy = {accuracy}\")\n",
    "    print(f\"F1 score = {f1}\\n\")\n",
    "\n",
    "    fold += 1\n",
    "\n",
    "print(\"\\nMean Scores: \")\n",
    "print(f\"Mean F1 score = {np.mean(f1s)}\")\n",
    "print(f\"Mean Accuracy = {np.mean(accuracies)}\")\n",
    "print(f\"Mean Precision = {np.mean(precisions)}\")\n",
    "print(f\"Mean Recall = {np.mean(recalls)}\")"
   ]
  },
  {
   "cell_type": "code",
   "execution_count": 10,
   "metadata": {},
   "outputs": [],
   "source": [
    "y_pred = model.predict(x_test)"
   ]
  },
  {
   "cell_type": "code",
   "execution_count": 11,
   "metadata": {},
   "outputs": [
    {
     "name": "stdout",
     "output_type": "stream",
     "text": [
      "\n",
      "Classification Report:\n",
      "               precision    recall  f1-score   support\n",
      "\n",
      "           0       0.02      0.99      0.05      8062\n",
      "           1       1.00      0.04      0.08    353872\n",
      "\n",
      "    accuracy                           0.06    361934\n",
      "   macro avg       0.51      0.52      0.06    361934\n",
      "weighted avg       0.98      0.06      0.08    361934\n",
      "\n"
     ]
    }
   ],
   "source": [
    "classification = classification_report(y_test, y_pred)\n",
    "\n",
    "print(\"\\nClassification Report:\\n\", classification)"
   ]
  }
 ],
 "metadata": {
  "kernelspec": {
   "display_name": "Python 3",
   "language": "python",
   "name": "python3"
  },
  "language_info": {
   "codemirror_mode": {
    "name": "ipython",
    "version": 3
   },
   "file_extension": ".py",
   "mimetype": "text/x-python",
   "name": "python",
   "nbconvert_exporter": "python",
   "pygments_lexer": "ipython3",
   "version": "3.12.0"
  }
 },
 "nbformat": 4,
 "nbformat_minor": 2
}
